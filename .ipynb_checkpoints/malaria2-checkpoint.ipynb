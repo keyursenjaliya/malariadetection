{
 "cells": [
  {
   "cell_type": "code",
   "execution_count": 7,
   "metadata": {},
   "outputs": [],
   "source": [
    "import keras"
   ]
  },
  {
   "cell_type": "code",
   "execution_count": 8,
   "metadata": {},
   "outputs": [],
   "source": [
    "from keras.layers import Dense,Flatten,Conv2D,Lambda,Input\n",
    "from keras.models import Model\n",
    "from keras.applications.vgg19 import VGG19\n",
    "from keras.applications.resnet50 import preprocess_input\n",
    "from keras.preprocessing import image\n",
    "from keras.preprocessing.image import ImageDataGenerator,load_img\n",
    "from keras.models import Sequential\n",
    "import numpy as np\n",
    "from glob import glob\n",
    "import matplotlib.pyplot as plt"
   ]
  },
  {
   "cell_type": "code",
   "execution_count": 9,
   "metadata": {},
   "outputs": [],
   "source": [
    "IMAGE_SIZE=[224,224]\n",
    "\n",
    "train_path = r'Dataset\\Dataset\\Train'\n",
    "test_path = r'Dataset\\Dataset\\Test'"
   ]
  },
  {
   "cell_type": "code",
   "execution_count": null,
   "metadata": {},
   "outputs": [
    {
     "name": "stdout",
     "output_type": "stream",
     "text": [
      "WARNING:tensorflow:From C:\\Users\\om\\anaconda3\\lib\\site-packages\\keras\\backend\\tensorflow_backend.py:4070: The name tf.nn.max_pool is deprecated. Please use tf.nn.max_pool2d instead.\n",
      "\n"
     ]
    }
   ],
   "source": [
    "vgg19 = VGG19(input_shape=IMAGE_SIZE + [3], weights='imagenet', include_top=False)"
   ]
  },
  {
   "cell_type": "code",
   "execution_count": null,
   "metadata": {},
   "outputs": [],
   "source": [
    "#vgg19.save('E:\\DL-INEURON\\keras model\\VGG19.h5')"
   ]
  },
  {
   "cell_type": "code",
   "execution_count": 6,
   "metadata": {},
   "outputs": [],
   "source": [
    "for layer in vgg19.layers:\n",
    "    layer.trainable = False"
   ]
  },
  {
   "cell_type": "code",
   "execution_count": 7,
   "metadata": {},
   "outputs": [],
   "source": [
    "  # useful for getting number of output classes\n",
    "folders = glob('Dataset\\Dataset\\Train\\*')"
   ]
  },
  {
   "cell_type": "code",
   "execution_count": 8,
   "metadata": {},
   "outputs": [
    {
     "data": {
      "text/plain": [
       "['Dataset\\\\Dataset\\\\Train\\\\Parasite', 'Dataset\\\\Dataset\\\\Train\\\\Uninfected']"
      ]
     },
     "execution_count": 8,
     "metadata": {},
     "output_type": "execute_result"
    }
   ],
   "source": [
    "folders"
   ]
  },
  {
   "cell_type": "code",
   "execution_count": 9,
   "metadata": {},
   "outputs": [],
   "source": [
    "# our layers - you can add more if you want\n",
    "x = Flatten()(vgg19.output)"
   ]
  },
  {
   "cell_type": "code",
   "execution_count": 10,
   "metadata": {},
   "outputs": [],
   "source": [
    "prediction = Dense(len(folders), activation='softmax')(x)\n",
    "\n",
    "# create a model object\n",
    "model = Model(inputs=vgg19.input, outputs=prediction)"
   ]
  },
  {
   "cell_type": "code",
   "execution_count": 11,
   "metadata": {},
   "outputs": [
    {
     "name": "stdout",
     "output_type": "stream",
     "text": [
      "Model: \"model_1\"\n",
      "_________________________________________________________________\n",
      "Layer (type)                 Output Shape              Param #   \n",
      "=================================================================\n",
      "input_1 (InputLayer)         (None, 224, 224, 3)       0         \n",
      "_________________________________________________________________\n",
      "block1_conv1 (Conv2D)        (None, 224, 224, 64)      1792      \n",
      "_________________________________________________________________\n",
      "block1_conv2 (Conv2D)        (None, 224, 224, 64)      36928     \n",
      "_________________________________________________________________\n",
      "block1_pool (MaxPooling2D)   (None, 112, 112, 64)      0         \n",
      "_________________________________________________________________\n",
      "block2_conv1 (Conv2D)        (None, 112, 112, 128)     73856     \n",
      "_________________________________________________________________\n",
      "block2_conv2 (Conv2D)        (None, 112, 112, 128)     147584    \n",
      "_________________________________________________________________\n",
      "block2_pool (MaxPooling2D)   (None, 56, 56, 128)       0         \n",
      "_________________________________________________________________\n",
      "block3_conv1 (Conv2D)        (None, 56, 56, 256)       295168    \n",
      "_________________________________________________________________\n",
      "block3_conv2 (Conv2D)        (None, 56, 56, 256)       590080    \n",
      "_________________________________________________________________\n",
      "block3_conv3 (Conv2D)        (None, 56, 56, 256)       590080    \n",
      "_________________________________________________________________\n",
      "block3_conv4 (Conv2D)        (None, 56, 56, 256)       590080    \n",
      "_________________________________________________________________\n",
      "block3_pool (MaxPooling2D)   (None, 28, 28, 256)       0         \n",
      "_________________________________________________________________\n",
      "block4_conv1 (Conv2D)        (None, 28, 28, 512)       1180160   \n",
      "_________________________________________________________________\n",
      "block4_conv2 (Conv2D)        (None, 28, 28, 512)       2359808   \n",
      "_________________________________________________________________\n",
      "block4_conv3 (Conv2D)        (None, 28, 28, 512)       2359808   \n",
      "_________________________________________________________________\n",
      "block4_conv4 (Conv2D)        (None, 28, 28, 512)       2359808   \n",
      "_________________________________________________________________\n",
      "block4_pool (MaxPooling2D)   (None, 14, 14, 512)       0         \n",
      "_________________________________________________________________\n",
      "block5_conv1 (Conv2D)        (None, 14, 14, 512)       2359808   \n",
      "_________________________________________________________________\n",
      "block5_conv2 (Conv2D)        (None, 14, 14, 512)       2359808   \n",
      "_________________________________________________________________\n",
      "block5_conv3 (Conv2D)        (None, 14, 14, 512)       2359808   \n",
      "_________________________________________________________________\n",
      "block5_conv4 (Conv2D)        (None, 14, 14, 512)       2359808   \n",
      "_________________________________________________________________\n",
      "block5_pool (MaxPooling2D)   (None, 7, 7, 512)         0         \n",
      "_________________________________________________________________\n",
      "flatten_1 (Flatten)          (None, 25088)             0         \n",
      "_________________________________________________________________\n",
      "dense_1 (Dense)              (None, 2)                 50178     \n",
      "=================================================================\n",
      "Total params: 20,074,562\n",
      "Trainable params: 50,178\n",
      "Non-trainable params: 20,024,384\n",
      "_________________________________________________________________\n"
     ]
    }
   ],
   "source": [
    "model.summary()"
   ]
  },
  {
   "cell_type": "code",
   "execution_count": 12,
   "metadata": {},
   "outputs": [],
   "source": [
    "\n",
    "model.compile(\n",
    "  loss='categorical_crossentropy',\n",
    "  optimizer='adam',\n",
    "  metrics=['accuracy']\n",
    ")\n"
   ]
  },
  {
   "cell_type": "code",
   "execution_count": 13,
   "metadata": {},
   "outputs": [],
   "source": [
    "from keras.preprocessing.image import ImageDataGenerator"
   ]
  },
  {
   "cell_type": "code",
   "execution_count": 14,
   "metadata": {},
   "outputs": [],
   "source": [
    "train_datagen = ImageDataGenerator(rescale = 1./255,\n",
    "                                   shear_range = 0.2,\n",
    "                                   zoom_range = 0.2,\n",
    "                                   horizontal_flip = True)\n",
    "\n",
    "test_datagen = ImageDataGenerator(rescale = 1./255)"
   ]
  },
  {
   "cell_type": "code",
   "execution_count": 15,
   "metadata": {},
   "outputs": [
    {
     "name": "stdout",
     "output_type": "stream",
     "text": [
      "Found 416 images belonging to 2 classes.\n"
     ]
    }
   ],
   "source": [
    "train_set=train_datagen.flow_from_directory('Dataset\\Dataset\\Train',\n",
    "                                            target_size=(224,224),\n",
    "                                            batch_size = 32,\n",
    "                                            class_mode = 'categorical'\n",
    "                                   )"
   ]
  },
  {
   "cell_type": "code",
   "execution_count": 16,
   "metadata": {},
   "outputs": [
    {
     "name": "stdout",
     "output_type": "stream",
     "text": [
      "Found 134 images belonging to 2 classes.\n"
     ]
    }
   ],
   "source": [
    "test_set = test_datagen.flow_from_directory('Dataset\\Dataset\\Test',\n",
    "                                            target_size = (224, 224),\n",
    "                                            batch_size = 32,\n",
    "                                            class_mode = 'categorical')"
   ]
  },
  {
   "cell_type": "code",
   "execution_count": 17,
   "metadata": {},
   "outputs": [
    {
     "name": "stdout",
     "output_type": "stream",
     "text": [
      "WARNING:tensorflow:From C:\\Users\\om\\anaconda3\\lib\\site-packages\\keras\\backend\\tensorflow_backend.py:422: The name tf.global_variables is deprecated. Please use tf.compat.v1.global_variables instead.\n",
      "\n",
      "Epoch 1/40\n",
      "13/13 [==============================] - 334s 26s/step - loss: 1.0283 - accuracy: 0.5409 - val_loss: 0.1160 - val_accuracy: 0.6791\n",
      "Epoch 2/40\n",
      "13/13 [==============================] - 356s 27s/step - loss: 0.6158 - accuracy: 0.6659 - val_loss: 1.0273 - val_accuracy: 0.6791\n",
      "Epoch 3/40\n",
      "13/13 [==============================] - 317s 24s/step - loss: 0.4417 - accuracy: 0.7981 - val_loss: 0.3599 - val_accuracy: 0.7463\n",
      "Epoch 4/40\n",
      "13/13 [==============================] - 286s 22s/step - loss: 0.3286 - accuracy: 0.8654 - val_loss: 0.2217 - val_accuracy: 0.7164\n",
      "Epoch 5/40\n",
      "13/13 [==============================] - 291s 22s/step - loss: 0.3013 - accuracy: 0.8798 - val_loss: 0.2177 - val_accuracy: 0.8806\n",
      "Epoch 6/40\n",
      "13/13 [==============================] - 285s 22s/step - loss: 0.2833 - accuracy: 0.8918 - val_loss: 0.6867 - val_accuracy: 0.8134\n",
      "Epoch 7/40\n",
      "13/13 [==============================] - 295s 23s/step - loss: 0.2612 - accuracy: 0.9135 - val_loss: 0.2749 - val_accuracy: 0.8806\n",
      "Epoch 8/40\n",
      "13/13 [==============================] - 270s 21s/step - loss: 0.2586 - accuracy: 0.8894 - val_loss: 0.6174 - val_accuracy: 0.6791\n",
      "Epoch 9/40\n",
      "13/13 [==============================] - 304s 23s/step - loss: 0.2656 - accuracy: 0.8870 - val_loss: 0.4999 - val_accuracy: 0.7985\n",
      "Epoch 10/40\n",
      "13/13 [==============================] - 279s 21s/step - loss: 0.2642 - accuracy: 0.8894 - val_loss: 0.2249 - val_accuracy: 0.7836\n",
      "Epoch 11/40\n",
      "13/13 [==============================] - 274s 21s/step - loss: 0.2294 - accuracy: 0.9135 - val_loss: 0.3955 - val_accuracy: 0.8433\n",
      "Epoch 12/40\n",
      "13/13 [==============================] - 285s 22s/step - loss: 0.1958 - accuracy: 0.9495 - val_loss: 0.2357 - val_accuracy: 0.8507\n",
      "Epoch 13/40\n",
      "13/13 [==============================] - 241s 19s/step - loss: 0.1707 - accuracy: 0.9447 - val_loss: 0.1594 - val_accuracy: 0.8955\n",
      "Epoch 14/40\n",
      "13/13 [==============================] - 554s 43s/step - loss: 0.1800 - accuracy: 0.9399 - val_loss: 0.4248 - val_accuracy: 0.8284\n",
      "Epoch 15/40\n",
      "13/13 [==============================] - 295s 23s/step - loss: 0.1728 - accuracy: 0.9471 - val_loss: 0.3499 - val_accuracy: 0.8955\n",
      "Epoch 16/40\n",
      "13/13 [==============================] - 333s 26s/step - loss: 0.1676 - accuracy: 0.9519 - val_loss: 0.5204 - val_accuracy: 0.7836\n",
      "Epoch 17/40\n",
      "13/13 [==============================] - 269s 21s/step - loss: 0.1865 - accuracy: 0.9255 - val_loss: 0.1738 - val_accuracy: 0.9030\n",
      "Epoch 18/40\n",
      "13/13 [==============================] - 277s 21s/step - loss: 0.1904 - accuracy: 0.9255 - val_loss: 0.2609 - val_accuracy: 0.8433\n",
      "Epoch 19/40\n",
      "13/13 [==============================] - 268s 21s/step - loss: 0.2058 - accuracy: 0.9087 - val_loss: 0.1947 - val_accuracy: 0.8881\n",
      "Epoch 20/40\n",
      "13/13 [==============================] - 282s 22s/step - loss: 0.1808 - accuracy: 0.9279 - val_loss: 0.1257 - val_accuracy: 0.8881\n",
      "Epoch 21/40\n",
      "13/13 [==============================] - 301s 23s/step - loss: 0.1820 - accuracy: 0.9135 - val_loss: 0.0769 - val_accuracy: 0.8955\n",
      "Epoch 22/40\n",
      "13/13 [==============================] - 290s 22s/step - loss: 0.1837 - accuracy: 0.9207 - val_loss: 0.1275 - val_accuracy: 0.8806\n",
      "Epoch 23/40\n",
      "13/13 [==============================] - 306s 24s/step - loss: 0.1730 - accuracy: 0.9399 - val_loss: 0.5995 - val_accuracy: 0.7537\n",
      "Epoch 24/40\n",
      "13/13 [==============================] - 296s 23s/step - loss: 0.1438 - accuracy: 0.9399 - val_loss: 0.3137 - val_accuracy: 0.9030\n",
      "Epoch 25/40\n",
      "13/13 [==============================] - 293s 23s/step - loss: 0.1571 - accuracy: 0.9423 - val_loss: 0.0400 - val_accuracy: 0.9254\n",
      "Epoch 26/40\n",
      "13/13 [==============================] - 316s 24s/step - loss: 0.1001 - accuracy: 0.9760 - val_loss: 0.2457 - val_accuracy: 0.9030\n",
      "Epoch 27/40\n",
      "13/13 [==============================] - 299s 23s/step - loss: 0.1252 - accuracy: 0.9639 - val_loss: 0.5508 - val_accuracy: 0.8507\n",
      "Epoch 28/40\n",
      "13/13 [==============================] - 303s 23s/step - loss: 0.1211 - accuracy: 0.9591 - val_loss: 0.1848 - val_accuracy: 0.9254\n",
      "Epoch 29/40\n",
      "13/13 [==============================] - 259s 20s/step - loss: 0.1081 - accuracy: 0.9688 - val_loss: 0.2526 - val_accuracy: 0.8806\n",
      "Epoch 30/40\n",
      "13/13 [==============================] - 378s 29s/step - loss: 0.0926 - accuracy: 0.9760 - val_loss: 0.1231 - val_accuracy: 0.9478\n",
      "Epoch 31/40\n",
      "13/13 [==============================] - 305s 23s/step - loss: 0.1037 - accuracy: 0.9688 - val_loss: 0.1508 - val_accuracy: 0.9179\n",
      "Epoch 32/40\n",
      "13/13 [==============================] - 310s 24s/step - loss: 0.0997 - accuracy: 0.9688 - val_loss: 0.1492 - val_accuracy: 0.9328\n",
      "Epoch 33/40\n",
      "13/13 [==============================] - 270s 21s/step - loss: 0.1023 - accuracy: 0.9639 - val_loss: 0.5042 - val_accuracy: 0.8433\n",
      "Epoch 34/40\n",
      "13/13 [==============================] - 240s 18s/step - loss: 0.1084 - accuracy: 0.9591 - val_loss: 0.1858 - val_accuracy: 0.9179\n",
      "Epoch 35/40\n",
      "13/13 [==============================] - 346s 27s/step - loss: 0.1008 - accuracy: 0.9663 - val_loss: 0.1867 - val_accuracy: 0.9403\n",
      "Epoch 36/40\n",
      "13/13 [==============================] - 579s 45s/step - loss: 0.1061 - accuracy: 0.9688 - val_loss: 0.4155 - val_accuracy: 0.8358\n",
      "Epoch 37/40\n",
      "13/13 [==============================] - 255s 20s/step - loss: 0.0764 - accuracy: 0.9784 - val_loss: 0.0354 - val_accuracy: 0.9254\n",
      "Epoch 38/40\n",
      "13/13 [==============================] - 259s 20s/step - loss: 0.0833 - accuracy: 0.9784 - val_loss: 0.0500 - val_accuracy: 0.9179\n",
      "Epoch 39/40\n",
      "13/13 [==============================] - 243s 19s/step - loss: 0.0898 - accuracy: 0.9784 - val_loss: 0.0316 - val_accuracy: 0.9179\n",
      "Epoch 40/40\n",
      "13/13 [==============================] - 263s 20s/step - loss: 0.0772 - accuracy: 0.9832 - val_loss: 0.1761 - val_accuracy: 0.9104\n"
     ]
    }
   ],
   "source": [
    " finalmodel=model.fit_generator(train_set,validation_data=test_set,epochs=40,\n",
    "                               steps_per_epoch=len(train_set),\n",
    "                                validation_steps=len(test_set))"
   ]
  },
  {
   "cell_type": "code",
   "execution_count": null,
   "metadata": {},
   "outputs": [],
   "source": []
  },
  {
   "cell_type": "code",
   "execution_count": 21,
   "metadata": {},
   "outputs": [],
   "source": [
    "model.save('E:\\DL-INEURON\\keras model\\malariadetection.h5')"
   ]
  },
  {
   "cell_type": "code",
   "execution_count": 22,
   "metadata": {},
   "outputs": [],
   "source": [
    "y_pred = model.predict(test_set)"
   ]
  },
  {
   "cell_type": "code",
   "execution_count": 23,
   "metadata": {},
   "outputs": [
    {
     "data": {
      "text/plain": [
       "array([[2.23561943e-01, 7.76438057e-01],\n",
       "       [2.24795163e-01, 7.75204837e-01],\n",
       "       [9.99789894e-01, 2.10148210e-04],\n",
       "       [9.25777495e-01, 7.42225274e-02],\n",
       "       [9.99720156e-01, 2.79825472e-04],\n",
       "       [2.42988560e-02, 9.75701153e-01],\n",
       "       [6.31532669e-01, 3.68467301e-01],\n",
       "       [9.99988317e-01, 1.17064374e-05],\n",
       "       [9.53647271e-02, 9.04635310e-01],\n",
       "       [9.99977469e-01, 2.25420063e-05],\n",
       "       [3.18246067e-01, 6.81753933e-01],\n",
       "       [6.59322560e-01, 3.40677410e-01],\n",
       "       [9.92157236e-02, 9.00784314e-01],\n",
       "       [9.16145369e-02, 9.08385456e-01],\n",
       "       [4.77669872e-02, 9.52233016e-01],\n",
       "       [9.99737322e-01, 2.62682268e-04],\n",
       "       [1.34171709e-01, 8.65828216e-01],\n",
       "       [9.97078419e-01, 2.92161573e-03],\n",
       "       [9.92146358e-02, 9.00785387e-01],\n",
       "       [9.78824258e-01, 2.11757179e-02],\n",
       "       [6.20767355e-01, 3.79232615e-01],\n",
       "       [9.99111950e-01, 8.88023176e-04],\n",
       "       [2.11376008e-02, 9.78862405e-01],\n",
       "       [8.45390320e-01, 1.54609680e-01],\n",
       "       [9.97337878e-01, 2.66216183e-03],\n",
       "       [9.89718437e-01, 1.02815293e-02],\n",
       "       [7.06837654e-01, 2.93162286e-01],\n",
       "       [9.32114780e-01, 6.78852573e-02],\n",
       "       [5.05995899e-02, 9.49400425e-01],\n",
       "       [8.96387160e-01, 1.03612877e-01],\n",
       "       [2.74195790e-01, 7.25804210e-01],\n",
       "       [1.32281080e-01, 8.67718875e-01],\n",
       "       [1.96425393e-01, 8.03574622e-01],\n",
       "       [1.68564111e-01, 8.31435919e-01],\n",
       "       [9.98984635e-01, 1.01531064e-03],\n",
       "       [9.35496569e-01, 6.45034164e-02],\n",
       "       [9.97093320e-01, 2.90667824e-03],\n",
       "       [3.98947001e-02, 9.60105300e-01],\n",
       "       [9.21433926e-01, 7.85660967e-02],\n",
       "       [1.00000000e+00, 5.88613709e-08],\n",
       "       [9.81432080e-01, 1.85679365e-02],\n",
       "       [9.97810543e-01, 2.18953681e-03],\n",
       "       [6.66747928e-01, 3.33252013e-01],\n",
       "       [8.76974165e-01, 1.23025812e-01],\n",
       "       [3.01166326e-02, 9.69883442e-01],\n",
       "       [9.62082203e-03, 9.90379214e-01],\n",
       "       [8.84466708e-01, 1.15533210e-01],\n",
       "       [9.99713361e-01, 2.86619499e-04],\n",
       "       [5.31688988e-01, 4.68311012e-01],\n",
       "       [2.81716045e-02, 9.71828401e-01],\n",
       "       [3.87928598e-02, 9.61207211e-01],\n",
       "       [9.49805260e-01, 5.01947626e-02],\n",
       "       [9.95448053e-01, 4.55198297e-03],\n",
       "       [9.87616122e-01, 1.23838298e-02],\n",
       "       [9.98884976e-01, 1.11507496e-03],\n",
       "       [1.41146807e-02, 9.85885262e-01],\n",
       "       [7.80446380e-02, 9.21955347e-01],\n",
       "       [4.50661294e-02, 9.54933882e-01],\n",
       "       [8.06317031e-01, 1.93682984e-01],\n",
       "       [9.97970045e-01, 2.02995632e-03],\n",
       "       [7.19704747e-01, 2.80295283e-01],\n",
       "       [6.18004918e-01, 3.81995052e-01],\n",
       "       [6.93688244e-02, 9.30631161e-01],\n",
       "       [9.99938846e-01, 6.11921059e-05],\n",
       "       [9.99682784e-01, 3.17186583e-04],\n",
       "       [7.90596187e-01, 2.09403783e-01],\n",
       "       [8.27757239e-01, 1.72242761e-01],\n",
       "       [9.99054134e-01, 9.45839391e-04],\n",
       "       [2.64530092e-01, 7.35469937e-01],\n",
       "       [2.58163363e-02, 9.74183679e-01],\n",
       "       [1.29701078e-01, 8.70298982e-01],\n",
       "       [9.34896111e-01, 6.51039183e-02],\n",
       "       [7.74264559e-02, 9.22573566e-01],\n",
       "       [9.61105600e-02, 9.03889418e-01],\n",
       "       [8.49198103e-01, 1.50801927e-01],\n",
       "       [9.99752820e-01, 2.47206015e-04],\n",
       "       [3.47611666e-01, 6.52388394e-01],\n",
       "       [5.76734722e-01, 4.23265249e-01],\n",
       "       [1.85655162e-01, 8.14344883e-01],\n",
       "       [1.49089038e-01, 8.50910962e-01],\n",
       "       [9.99695420e-01, 3.04577290e-04],\n",
       "       [9.90306020e-01, 9.69395507e-03],\n",
       "       [8.83285761e-01, 1.16714284e-01],\n",
       "       [2.87920907e-02, 9.71207857e-01],\n",
       "       [9.97456968e-01, 2.54299701e-03],\n",
       "       [1.60942879e-02, 9.83905733e-01],\n",
       "       [9.99969721e-01, 3.02840654e-05],\n",
       "       [9.84509051e-01, 1.54909529e-02],\n",
       "       [3.77801090e-01, 6.22198880e-01],\n",
       "       [2.69204713e-02, 9.73079503e-01],\n",
       "       [7.85056651e-02, 9.21494305e-01],\n",
       "       [9.98182416e-01, 1.81765168e-03],\n",
       "       [9.99984980e-01, 1.49813377e-05],\n",
       "       [3.55085470e-02, 9.64491427e-01],\n",
       "       [9.83008564e-01, 1.69914011e-02],\n",
       "       [9.96190667e-01, 3.80936614e-03],\n",
       "       [9.99157667e-01, 8.42393900e-04],\n",
       "       [1.05599478e-01, 8.94400597e-01],\n",
       "       [7.21392691e-01, 2.78607368e-01],\n",
       "       [9.99643087e-01, 3.56941367e-04],\n",
       "       [7.78194249e-01, 2.21805722e-01],\n",
       "       [9.99942780e-01, 5.72357676e-05],\n",
       "       [9.47813988e-01, 5.21860011e-02],\n",
       "       [9.99028206e-01, 9.71758913e-04],\n",
       "       [4.00523007e-01, 5.99477053e-01],\n",
       "       [3.11817914e-01, 6.88182116e-01],\n",
       "       [2.97455173e-02, 9.70254481e-01],\n",
       "       [4.04703729e-02, 9.59529638e-01],\n",
       "       [6.00280240e-02, 9.39971983e-01],\n",
       "       [9.95087802e-01, 4.91217617e-03],\n",
       "       [6.76831543e-01, 3.23168486e-01],\n",
       "       [9.99987483e-01, 1.25333427e-05],\n",
       "       [6.87397301e-01, 3.12602699e-01],\n",
       "       [9.83857065e-02, 9.01614308e-01],\n",
       "       [9.93442416e-01, 6.55752001e-03],\n",
       "       [4.95071352e-01, 5.04928648e-01],\n",
       "       [9.99036074e-01, 9.63920145e-04],\n",
       "       [2.28555035e-02, 9.77144539e-01],\n",
       "       [9.88407910e-01, 1.15921544e-02],\n",
       "       [6.49822593e-01, 3.50177407e-01],\n",
       "       [9.84169245e-01, 1.58307031e-02],\n",
       "       [6.88309968e-02, 9.31168973e-01],\n",
       "       [3.05493981e-01, 6.94506049e-01],\n",
       "       [1.26918793e-01, 8.73081207e-01],\n",
       "       [9.99744475e-01, 2.55531399e-04],\n",
       "       [9.99995470e-01, 4.51939059e-06],\n",
       "       [1.00000000e+00, 5.02251787e-08],\n",
       "       [2.57821567e-02, 9.74217832e-01],\n",
       "       [7.79437006e-01, 2.20563054e-01],\n",
       "       [9.30944502e-01, 6.90555200e-02],\n",
       "       [4.59477007e-01, 5.40522993e-01],\n",
       "       [8.78909528e-01, 1.21090405e-01],\n",
       "       [9.83327448e-01, 1.66725200e-02],\n",
       "       [9.99404430e-01, 5.95600344e-04]], dtype=float32)"
      ]
     },
     "execution_count": 23,
     "metadata": {},
     "output_type": "execute_result"
    }
   ],
   "source": [
    "y_pred"
   ]
  },
  {
   "cell_type": "code",
   "execution_count": 24,
   "metadata": {},
   "outputs": [],
   "source": [
    "import numpy as np\n",
    "y_pred = np.argmax(y_pred, axis=1)"
   ]
  },
  {
   "cell_type": "code",
   "execution_count": 25,
   "metadata": {},
   "outputs": [
    {
     "data": {
      "text/plain": [
       "array([1, 1, 0, 0, 0, 1, 0, 0, 1, 0, 1, 0, 1, 1, 1, 0, 1, 0, 1, 0, 0, 0,\n",
       "       1, 0, 0, 0, 0, 0, 1, 0, 1, 1, 1, 1, 0, 0, 0, 1, 0, 0, 0, 0, 0, 0,\n",
       "       1, 1, 0, 0, 0, 1, 1, 0, 0, 0, 0, 1, 1, 1, 0, 0, 0, 0, 1, 0, 0, 0,\n",
       "       0, 0, 1, 1, 1, 0, 1, 1, 0, 0, 1, 0, 1, 1, 0, 0, 0, 1, 0, 1, 0, 0,\n",
       "       1, 1, 1, 0, 0, 1, 0, 0, 0, 1, 0, 0, 0, 0, 0, 0, 1, 1, 1, 1, 1, 0,\n",
       "       0, 0, 0, 1, 0, 1, 0, 1, 0, 0, 0, 1, 1, 1, 0, 0, 0, 1, 0, 0, 1, 0,\n",
       "       0, 0], dtype=int64)"
      ]
     },
     "execution_count": 25,
     "metadata": {},
     "output_type": "execute_result"
    }
   ],
   "source": [
    "y_pred"
   ]
  },
  {
   "cell_type": "code",
   "execution_count": 13,
   "metadata": {},
   "outputs": [],
   "source": [
    "from tensorflow.keras.models import load_model\n",
    "from tensorflow.keras.preprocessing import image\n",
    "model=load_model('malariadetection.h5')"
   ]
  },
  {
   "cell_type": "code",
   "execution_count": 17,
   "metadata": {},
   "outputs": [
    {
     "data": {
      "text/plain": [
       "(224, 224, 3)"
      ]
     },
     "execution_count": 17,
     "metadata": {},
     "output_type": "execute_result"
    }
   ],
   "source": [
    "img=image.load_img(r'Dataset\\Dataset\\Test\\Uninfected\\2.png',target_size=(224,224))\n",
    "x=image.img_to_array(img)\n",
    "x.shape\n"
   ]
  },
  {
   "cell_type": "code",
   "execution_count": 18,
   "metadata": {},
   "outputs": [
    {
     "data": {
      "text/plain": [
       "(1, 224, 224, 3)"
      ]
     },
     "execution_count": 18,
     "metadata": {},
     "output_type": "execute_result"
    }
   ],
   "source": [
    "x=x/255\n",
    "x=np.expand_dims(x,axis=0)\n",
    "img_data=preprocess_input(x)\n",
    "img_data.shape"
   ]
  },
  {
   "cell_type": "code",
   "execution_count": 19,
   "metadata": {},
   "outputs": [],
   "source": [
    "a=np.argmax(model.predict(img_data), axis=1)"
   ]
  },
  {
   "cell_type": "code",
   "execution_count": 20,
   "metadata": {},
   "outputs": [
    {
     "name": "stdout",
     "output_type": "stream",
     "text": [
      "Uninfected\n"
     ]
    }
   ],
   "source": [
    "if(a==1):\n",
    "    print(\"Uninfected\")\n",
    "else:\n",
    "    print(\"Infected\")"
   ]
  },
  {
   "cell_type": "code",
   "execution_count": null,
   "metadata": {},
   "outputs": [],
   "source": []
  }
 ],
 "metadata": {
  "kernelspec": {
   "display_name": "Python 3",
   "language": "python",
   "name": "python3"
  },
  "language_info": {
   "codemirror_mode": {
    "name": "ipython",
    "version": 3
   },
   "file_extension": ".py",
   "mimetype": "text/x-python",
   "name": "python",
   "nbconvert_exporter": "python",
   "pygments_lexer": "ipython3",
   "version": "3.7.6"
  }
 },
 "nbformat": 4,
 "nbformat_minor": 4
}
